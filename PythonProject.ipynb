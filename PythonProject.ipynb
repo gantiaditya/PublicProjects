{
 "cells": [
  {
   "cell_type": "code",
   "execution_count": 3,
   "id": "8a6d924c",
   "metadata": {},
   "outputs": [],
   "source": [
    "# Data Science Tools and Ecosystem"
   ]
  },
  {
   "cell_type": "code",
   "execution_count": 5,
   "id": "ac514e2d",
   "metadata": {},
   "outputs": [],
   "source": [
    "# In this notebook, Data Science Tools and Ecosystem are summarized."
   ]
  },
  {
   "cell_type": "code",
   "execution_count": 9,
   "id": "df67e97d",
   "metadata": {},
   "outputs": [],
   "source": [
    "#Objectives:\n",
    "\n",
    "#List popular languages for Data Science\n",
    "#Describe common libraries used in Data Science\n",
    "#Demonstrate basic arithmetic operations in Python\n",
    "#Convert units of measurement using Python\n",
    "#Create and format markdown cells in Jupyter Notebooks"
   ]
  },
  {
   "cell_type": "code",
   "execution_count": null,
   "id": "284dbd02",
   "metadata": {},
   "outputs": [],
   "source": [
    "# Some of the popular languages that Data Scientists use are:\n",
    "\n",
    "#Python\n",
    "#R\n",
    "#SQL\n",
    "#Julia"
   ]
  },
  {
   "cell_type": "code",
   "execution_count": null,
   "id": "67eba08d",
   "metadata": {},
   "outputs": [],
   "source": [
    "# Some of the commonly used libraries used by Data Scientists include:\n",
    "\n",
    "#Pandas\n",
    "#NumPy\n",
    "#Matplotlib\n",
    "#Scikit-learn\n",
    "#keras\n",
    "#tensorflow\n"
   ]
  },
  {
   "cell_type": "code",
   "execution_count": 11,
   "id": "631a67b4",
   "metadata": {},
   "outputs": [],
   "source": [
    "#Datascience tools are \n",
    "#Jupyter Notebook, Rstudio, Appache Zeppelin"
   ]
  },
  {
   "cell_type": "code",
   "execution_count": 12,
   "id": "9886cf2f",
   "metadata": {},
   "outputs": [],
   "source": [
    "### Below are a few examples of evaluating arithmetic expressions in Python."
   ]
  },
  {
   "cell_type": "code",
   "execution_count": 15,
   "id": "d3d3373f",
   "metadata": {},
   "outputs": [
    {
     "data": {
      "text/plain": [
       "69"
      ]
     },
     "execution_count": 15,
     "metadata": {},
     "output_type": "execute_result"
    }
   ],
   "source": [
    "# Arithmetic expression to multiply then add integers\n",
    "(16 * 4) + 5 "
   ]
  },
  {
   "cell_type": "code",
   "execution_count": 16,
   "id": "e9f852fc",
   "metadata": {},
   "outputs": [],
   "source": [
    "#Create a code cell to multiply and add numbers\n"
   ]
  },
  {
   "cell_type": "code",
   "execution_count": 17,
   "id": "bf8aecd2",
   "metadata": {},
   "outputs": [
    {
     "data": {
      "text/plain": [
       "68"
      ]
     },
     "execution_count": 17,
     "metadata": {},
     "output_type": "execute_result"
    }
   ],
   "source": [
    "(3*18)+ 14"
   ]
  },
  {
   "cell_type": "code",
   "execution_count": null,
   "id": "dc81576d",
   "metadata": {},
   "outputs": [],
   "source": []
  },
  {
   "cell_type": "code",
   "execution_count": 14,
   "id": "7105223a",
   "metadata": {},
   "outputs": [
    {
     "data": {
      "text/plain": [
       "3.3333333333333335"
      ]
     },
     "execution_count": 14,
     "metadata": {},
     "output_type": "execute_result"
    }
   ],
   "source": [
    "#Code to convert minutes to hours\n",
    "def code_to_convert(a):\n",
    "    return a/60\n",
    "code_to_convert(200)"
   ]
  },
  {
   "cell_type": "code",
   "execution_count": null,
   "id": "1f43127a",
   "metadata": {},
   "outputs": [],
   "source": []
  }
 ],
 "metadata": {
  "kernelspec": {
   "display_name": "Python 3",
   "language": "python",
   "name": "python3"
  },
  "language_info": {
   "codemirror_mode": {
    "name": "ipython",
    "version": 3
   },
   "file_extension": ".py",
   "mimetype": "text/x-python",
   "name": "python",
   "nbconvert_exporter": "python",
   "pygments_lexer": "ipython3",
   "version": "3.8.8"
  }
 },
 "nbformat": 4,
 "nbformat_minor": 5
}
